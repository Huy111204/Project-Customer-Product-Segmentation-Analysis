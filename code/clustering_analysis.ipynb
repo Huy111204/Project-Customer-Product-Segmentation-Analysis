{
  "nbformat": 4,
  "nbformat_minor": 0,
  "metadata": {
    "colab": {
      "private_outputs": true,
      "provenance": [],
      "gpuType": "T4"
    },
    "kernelspec": {
      "name": "python3",
      "display_name": "Python 3"
    },
    "language_info": {
      "name": "python"
    },
    "accelerator": "GPU"
  },
  "cells": [
    {
      "cell_type": "code",
      "source": [
        "# mount gg drive\n",
        "from google.colab import drive\n",
        "drive.mount('/content/drive')"
      ],
      "metadata": {
        "id": "epeFAn0IgrNx"
      },
      "execution_count": null,
      "outputs": []
    },
    {
      "cell_type": "code",
      "source": [
        "import pandas as pd\n",
        "import numpy as np\n",
        "import matplotlib.pyplot as plt\n",
        "import seaborn as sns\n",
        "from sklearn.preprocessing import StandardScaler, OneHotEncoder\n",
        "from sklearn.impute import SimpleImputer\n",
        "from sklearn.compose import ColumnTransformer\n",
        "from sklearn.pipeline import Pipeline\n",
        "from sklearn.decomposition import PCA\n",
        "from sklearn.cluster import KMeans, DBSCAN\n",
        "from sklearn.metrics import silhouette_score\n",
        "from sklearn.neighbors import NearestNeighbors"
      ],
      "metadata": {
        "id": "Q9ESlb1lQiVY"
      },
      "execution_count": null,
      "outputs": []
    },
    {
      "cell_type": "code",
      "execution_count": null,
      "metadata": {
        "id": "PNRvGQcPm3Zx"
      },
      "outputs": [],
      "source": [
        "df = pd.read_csv('/content/drive/MyDrive/BI/Global_Superstore2.csv', encoding='latin1')\n",
        "df\n"
      ]
    },
    {
      "cell_type": "code",
      "source": [
        "df.info()\n",
        "df.describe()"
      ],
      "metadata": {
        "id": "L8Ru-S4WN-pj"
      },
      "execution_count": null,
      "outputs": []
    },
    {
      "cell_type": "code",
      "source": [
        "df.isnull().sum()"
      ],
      "metadata": {
        "id": "UCPafDLEouA6"
      },
      "execution_count": null,
      "outputs": []
    },
    {
      "cell_type": "markdown",
      "source": [
        "# **Data Preprocessing**"
      ],
      "metadata": {
        "id": "tFBbrCoO-_ln"
      }
    },
    {
      "cell_type": "code",
      "source": [
        "df.drop(\"Postal Code\",axis=1,inplace=True)"
      ],
      "metadata": {
        "id": "q3HE2I8iH3TG"
      },
      "execution_count": null,
      "outputs": []
    },
    {
      "cell_type": "code",
      "source": [
        "def check_duplicates(df):\n",
        "    print(\"Duplicates :\",df.duplicated().sum())\n",
        "check_duplicates(df)"
      ],
      "metadata": {
        "id": "FledW7_jNudT"
      },
      "execution_count": null,
      "outputs": []
    },
    {
      "cell_type": "code",
      "source": [
        "import numpy as np\n",
        "# show the missing values in dataset with ratio\n",
        "def missing_values_tabl(df):\n",
        "\n",
        "    na_columns = [col for col in df.columns if df[col].isnull().sum() > 0]\n",
        "    n_miss = df[na_columns].isnull().sum().sort_values(ascending=False)\n",
        "    ratio = (df[na_columns].isnull().sum() / df.shape[0] * 100).sort_values(ascending=False)\n",
        "    missing_df = pd.concat([n_miss, np.round(ratio,2)], axis=1, keys=['n_miss', 'ratio'])\n",
        "    missing_df = pd.DataFrame(missing_df)\n",
        "    return missing_df\n",
        "\n",
        "missing_values_tabl(df)"
      ],
      "metadata": {
        "id": "nUgtV2IaN0Pi"
      },
      "execution_count": null,
      "outputs": []
    },
    {
      "cell_type": "code",
      "source": [
        "# converting object to datetime\n",
        "df['Order Date'] = pd.to_datetime(df['Order Date'], dayfirst=True, errors='coerce')\n",
        "df['Ship Date']  = pd.to_datetime(df['Ship Date'],  dayfirst=True, errors='coerce')"
      ],
      "metadata": {
        "id": "BkZRyGDrsILo"
      },
      "execution_count": null,
      "outputs": []
    },
    {
      "cell_type": "code",
      "source": [
        "# creating new features\n",
        "df[\"order year\"]=df[\"Order Date\"].dt.year\n",
        "df[\"order_month\"]=df[\"Order Date\"].dt.month\n",
        "df[\"ship year\"]=df[\"Ship Date\"].dt.year\n",
        "df[\"ship_month\"]=df[\"Ship Date\"].dt.month\n",
        "# unit price\n",
        "df[\"unit_price\"]=df[\"Sales\"]/df[\"Quantity\"]\n",
        "# rename columns\n",
        "df.rename(columns={\"Order Date\":\"order_date\",\"Ship Date\":\"ship_date\",\"Order Priority\":\"order_priority\"},inplace=True)"
      ],
      "metadata": {
        "id": "PvNvLNm9GRBw"
      },
      "execution_count": null,
      "outputs": []
    },
    {
      "cell_type": "markdown",
      "source": [
        "# **Exploratory Data Analysis (EDA)**"
      ],
      "metadata": {
        "id": "ttm48-_h_N1N"
      }
    },
    {
      "cell_type": "code",
      "source": [
        "# Order Priority vs Ship Mode\n",
        "plt.figure(figsize=(10, 6))\n",
        "sns.countplot(data=df, x='Ship Mode', hue='order_priority')\n",
        "plt.title('Order Priority vs Ship Mode')\n",
        "plt.xlabel('Ship Mode')\n",
        "plt.ylabel('Count')\n",
        "plt.legend(title='Order Priority')\n",
        "plt.show()\n",
        "\n",
        "# Total Sales by Market\n",
        "market_sales = df.groupby('Market')['Sales'].sum().sort_values(ascending=False)\n",
        "plt.figure(figsize=(10, 6))\n",
        "market_sales.plot(kind='bar')\n",
        "plt.title('Total Sales by Market')\n",
        "plt.xlabel('Market')\n",
        "plt.ylabel('Total Sales')\n",
        "plt.show()\n",
        "\n",
        "# Total Profit by Segment\n",
        "segment_profit = df.groupby('Segment')['Profit'].sum().sort_values(ascending=False)\n",
        "plt.figure(figsize=(10, 6))\n",
        "segment_profit.plot(kind='bar')\n",
        "plt.title('Total Profit by Segment')\n",
        "plt.xlabel('Segment')\n",
        "plt.ylabel('Total Profit')\n",
        "plt.show()\n",
        "\n",
        "# Order Count by Region\n",
        "region_order_count = df['Region'].value_counts()\n",
        "plt.figure(figsize=(10, 6))\n",
        "region_order_count.plot(kind='bar')\n",
        "plt.title('Order Count by Region')\n",
        "plt.xlabel('Region')\n",
        "plt.ylabel('Order Count')\n",
        "plt.show()\n",
        "\n",
        "# Discount vs Profit\n",
        "plt.figure(figsize=(10, 6))\n",
        "sns.scatterplot(data=df, x='Discount', y='Profit')\n",
        "plt.title('Discount vs Profit')\n",
        "plt.xlabel('Discount')\n",
        "plt.ylabel('Profit')\n",
        "plt.show()\n",
        "\n",
        "# Discount vs Sales\n",
        "plt.figure(figsize=(10, 6))\n",
        "sns.scatterplot(data=df, x='Discount', y='Sales')\n",
        "plt.title('Discount vs Sales')\n",
        "plt.xlabel('Discount')\n",
        "plt.ylabel('Sales')\n",
        "plt.show()\n",
        "\n",
        "# Discount vs unit_price\n",
        "plt.figure(figsize=(10, 6))\n",
        "sns.scatterplot(data=df, x='Discount', y='unit_price')\n",
        "plt.title('Discount vs unit_price')\n",
        "plt.xlabel('Discount')\n",
        "plt.ylabel('unit_price')\n",
        "plt.show()"
      ],
      "metadata": {
        "id": "rL3N_n6R_Oh2"
      },
      "execution_count": null,
      "outputs": []
    },
    {
      "cell_type": "code",
      "source": [
        "discount_values = [0.1, 0.15, 0.2, 0.25, 0.3, 0.35, 0.4, 0.45, 0.5, 0.55, 0.6, 0.65, 0.7, 0.75, 0.8, 0.85]\n",
        "df_filtered = df[df['Discount'].isin(discount_values)]\n",
        "\n",
        "# Total Sales by Discount\n",
        "discount_sales = df_filtered.groupby('Discount')['Sales'].sum()\n",
        "plt.figure(figsize=(10, 6))\n",
        "discount_sales.plot(kind='bar', color='skyblue')\n",
        "plt.title('Total Sales by Discount')\n",
        "plt.xlabel('Discount')\n",
        "plt.ylabel('Total Sales')\n",
        "plt.xticks(rotation=45)\n",
        "plt.show()\n",
        "\n",
        "# Total Profit by Discount\n",
        "discount_profit = df_filtered.groupby('Discount')['Profit'].sum()\n",
        "plt.figure(figsize=(10, 6))\n",
        "discount_profit.plot(kind='bar', color='salmon')\n",
        "plt.title('Total Profit by Discount')\n",
        "plt.xlabel('Discount')\n",
        "plt.ylabel('Total Profit')\n",
        "plt.xticks(rotation=45)\n",
        "plt.show()"
      ],
      "metadata": {
        "id": "nGomRgMT_PIO"
      },
      "execution_count": null,
      "outputs": []
    },
    {
      "cell_type": "markdown",
      "source": [
        "# **K-Means Clustering ( Phân cụm khách hàng )**"
      ],
      "metadata": {
        "id": "-RVY-9fnMMMs"
      }
    },
    {
      "cell_type": "code",
      "source": [
        "# Tính toán RFM cho phân cụm\n",
        "rfm = df.groupby('Customer ID').agg({\n",
        "    'order_date': lambda x: (df['order_date'].max() - x.max()).days,\n",
        "    'Order ID': 'nunique',\n",
        "    'Sales': 'sum'\n",
        "}).reset_index()\n",
        "rfm.columns = ['Customer ID', 'Recency', 'Frequency', 'Monetary']\n",
        "\n",
        "# Kiểm tra xem rfm có NaN không\n",
        "print(rfm[['Recency','Frequency','Monetary']].isnull().sum())"
      ],
      "metadata": {
        "id": "NvzGOQtJJZ7P"
      },
      "execution_count": null,
      "outputs": []
    },
    {
      "cell_type": "code",
      "source": [
        "# Tạo DataFrame sạch: drop những dòng có Recency NaN\n",
        "rfm = rfm.dropna(subset=['Recency','Frequency','Monetary']).reset_index(drop=True)\n",
        "# Chuẩn hóa dữ liệu khách hàng\n",
        "from sklearn.preprocessing import StandardScaler\n",
        "scaler = StandardScaler()\n",
        "rfm_scaled = scaler.fit_transform(rfm[['Recency','Frequency','Monetary']])"
      ],
      "metadata": {
        "id": "egitKjJaLJnZ"
      },
      "execution_count": null,
      "outputs": []
    },
    {
      "cell_type": "code",
      "source": [
        "# Silhouette scores for RFM\n",
        "sil_scores = []\n",
        "for k in range(2,8):\n",
        "    km = KMeans(n_clusters=k, random_state=42).fit(rfm_scaled)\n",
        "    sil_scores.append(silhouette_score(rfm_scaled, km.labels_))\n",
        "    sil = silhouette_score(rfm_scaled, km.labels_)\n",
        "    print(f\"RFM - k={k}: Silhouette Score = {sil:.3f}\")\n",
        "\n",
        "\n",
        "# Plot silhouette analysis for RFM\n",
        "plt.figure()\n",
        "plt.plot(range(2,8), sil_scores, 'o-')\n",
        "plt.xlabel('k clusters')\n",
        "plt.ylabel('Silhouette Score')\n",
        "plt.title('Silhouette Analysis cho RFM')\n",
        "plt.show()\n"
      ],
      "metadata": {
        "id": "F8SUc162H-mP"
      },
      "execution_count": null,
      "outputs": []
    },
    {
      "cell_type": "code",
      "source": [
        "# Nhận thấy K=3 là điểm tối ưu để Silhouett score lớn nhất\n",
        "k_optimal = 3\n",
        "kmeans = KMeans(n_clusters=k_optimal, random_state=42)\n",
        "rfm['Cluster'] = kmeans.fit_predict(rfm_scaled)\n",
        "\n",
        "# Silhouette Score KMeans\n",
        "print(\"Silhouette Score KMeans:\", silhouette_score(rfm_scaled, rfm['Cluster']))"
      ],
      "metadata": {
        "id": "gEvcwr44PuhY"
      },
      "execution_count": null,
      "outputs": []
    },
    {
      "cell_type": "code",
      "source": [
        "# Đếm số lượng khách hàng trong mỗi cụm\n",
        "counts = rfm['Cluster'].value_counts().sort_index()\n",
        "# Phân tích kết quả trung bình các đặc trưng theo cụm\n",
        "cluster_summary = rfm.groupby('Cluster')[['Recency', 'Frequency', 'Monetary']].mean().round(2)\n",
        "print(\"\\n Trung bình RFM theo từng cụm:\\n\", cluster_summary)\n",
        "# Số lượng sản phẩm trong mỗi cụm\n",
        "print(\"\\n Số lượng khách hàng trong mỗi cụm:\\n\", counts)"
      ],
      "metadata": {
        "id": "rckqMor7LDXh"
      },
      "execution_count": null,
      "outputs": []
    },
    {
      "cell_type": "code",
      "source": [
        "# Vẽ biểu đồ trực quan\n",
        "from sklearn.decomposition import PCA\n",
        "pca = PCA(n_components=2)\n",
        "pcs = pca.fit_transform(rfm_scaled)\n",
        "df_pca = pd.DataFrame(pcs, columns=['PC1','PC2'])\n",
        "df_pca['Cluster'] = rfm['Cluster']\n",
        "sns.scatterplot(data=df_pca, x='PC1', y='PC2', hue='Cluster', palette='tab10')\n",
        "plt.title(\"RFM clusters in 2D PCA space\")\n",
        "plt.show()\n",
        "sns.pairplot(rfm, hue='Cluster', vars=['Recency', 'Frequency', 'Monetary'], palette='tab10')\n",
        "plt.suptitle(\"Phân cụm khách hàng theo RFM\", y=1.02)\n",
        "plt.show()"
      ],
      "metadata": {
        "id": "Wg2LLiaURrhN"
      },
      "execution_count": null,
      "outputs": []
    },
    {
      "cell_type": "markdown",
      "source": [
        "# **K-Means Clustering ( Phân cụm sản phẩm )**"
      ],
      "metadata": {
        "id": "oHtWwXZcKLRs"
      }
    },
    {
      "cell_type": "code",
      "source": [
        "# Tạo feature cho product\n",
        "product_df = (\n",
        "    df.groupby('Product Name')\n",
        "      .agg(\n",
        "         OrderCount   = ('Order ID', 'nunique'),\n",
        "         TotalQuantity= ('Quantity', 'sum'),\n",
        "         TotalSales   = ('Sales', 'sum'),\n",
        "         TotalProfit  = ('Profit', 'sum'),\n",
        "         AvgPrice     = ('unit_price', 'mean')\n",
        "      )\n",
        "      .reset_index()\n",
        ")"
      ],
      "metadata": {
        "id": "mScGAvqkTR_B"
      },
      "execution_count": null,
      "outputs": []
    },
    {
      "cell_type": "code",
      "source": [
        "# Chuẩn hóa dữ liệu product\n",
        "X = product_df[['OrderCount', 'TotalQuantity', 'TotalSales', 'TotalProfit', 'AvgPrice']]\n",
        "scaler = StandardScaler()\n",
        "X_scaled = scaler.fit_transform(X)"
      ],
      "metadata": {
        "id": "dI8xjl9-KXZz"
      },
      "execution_count": null,
      "outputs": []
    },
    {
      "cell_type": "code",
      "source": [
        "# Silhouette scores for Products\n",
        "prod_sil = []\n",
        "for k in range(2,8):\n",
        "    km = KMeans(n_clusters=k, random_state=42).fit(X_scaled)\n",
        "    prod_sil.append(silhouette_score(X_scaled, km.labels_))\n",
        "    sil = silhouette_score(X_scaled, km.labels_)\n",
        "    print(f\"Products - k={k}: Silhouette Score = {sil:.3f}\")\n",
        "\n",
        "# Plot silhouette analysis for RFM\n",
        "plt.figure()\n",
        "plt.plot(range(2,8), prod_sil, 'o-')\n",
        "plt.xlabel('k clusters')\n",
        "plt.ylabel('Silhouette Score')\n",
        "plt.title('Silhouette Analysis cho RFM')\n",
        "plt.show()"
      ],
      "metadata": {
        "id": "LVS1UdGfCQai"
      },
      "execution_count": null,
      "outputs": []
    },
    {
      "cell_type": "code",
      "source": [
        "# Chọn k=4 để tối ưu Silhouette Score lớn nhất và phân cụm bằng 4 vì có nhiều cụm đặc trưng hơn nhiều giá trị phân tích hơn tránh việc phân cụm (k=2) tổng quát\n",
        "k_opt_p = 4\n",
        "kmeans = KMeans(n_clusters=k_opt_p, random_state=42)\n",
        "product_df['KMeans_Cluster'] = kmeans.fit_predict(X_scaled)\n",
        "# Silhouette Score products\n",
        "print(\"Silhouette Score products:\", silhouette_score(X_scaled, product_df['KMeans_Cluster']))"
      ],
      "metadata": {
        "id": "ioWOR1H1J2cF"
      },
      "execution_count": null,
      "outputs": []
    },
    {
      "cell_type": "code",
      "source": [
        "# Thống kê trung bình theo cụm\n",
        "cluster_summary = product_df.groupby('KMeans_Cluster')[['OrderCount', 'TotalQuantity', 'TotalSales', 'TotalProfit', 'AvgPrice']].mean().round(2)\n",
        "print(\" Trung bình theo cụm sản phẩm:\")\n",
        "print(cluster_summary)\n",
        "# Số lượng sản phẩm trong mỗi cụm\n",
        "counts = product_df['KMeans_Cluster'].value_counts().sort_index()\n",
        "print(\"\\n Số lượng sản phẩm trong mỗi cụm:\")\n",
        "print(counts)"
      ],
      "metadata": {
        "id": "dWg5L8awUZ10"
      },
      "execution_count": null,
      "outputs": []
    },
    {
      "cell_type": "code",
      "source": [
        "# Vẽ biểu đồ trực quan\n",
        "from sklearn.decomposition import PCA\n",
        "pca = PCA(n_components=2)\n",
        "pcs = pca.fit_transform(X_scaled)\n",
        "df_pca = pd.DataFrame(pcs, columns=['PC1','PC2'])\n",
        "df_pca['KMeans_Cluster'] = product_df['KMeans_Cluster']\n",
        "sns.scatterplot(data=df_pca, x='PC1', y='PC2', hue='KMeans_Cluster', palette='tab10')\n",
        "#PCA\n",
        "plt.title(\"PCA projection of Product Clusters\")\n",
        "plt.show()\n",
        "#pairplot\n",
        "sns.pairplot(product_df, hue='KMeans_Cluster', vars=['OrderCount', 'TotalQuantity', 'TotalSales', 'TotalProfit', 'AvgPrice'], palette='tab10')\n",
        "plt.suptitle(\"Phân cụm sản phẩm theo RFM\", y=1.02)\n",
        "plt.show()"
      ],
      "metadata": {
        "id": "R0D-aZt2UmGy"
      },
      "execution_count": null,
      "outputs": []
    },
    {
      "cell_type": "markdown",
      "source": [
        "# **DBSCAN ( Phân cụm khách hàng )**"
      ],
      "metadata": {
        "id": "lOOFZMZECfAI"
      }
    },
    {
      "cell_type": "code",
      "source": [
        "from sklearn.cluster import DBSCAN\n",
        "from sklearn.metrics import silhouette_score\n",
        "from sklearn.decomposition import PCA\n",
        "import matplotlib.pyplot as plt\n",
        "import seaborn as sns\n",
        "\n",
        "# --- DBSCAN clustering ---\n",
        "dbscan = DBSCAN(eps=0.33, min_samples=4)\n",
        "rfm['DBSCAN_Cluster'] = dbscan.fit_predict(rfm_scaled)\n",
        "\n",
        "# --- Thống kê cụm & outlier ---\n",
        "n_total_clusters = len(set(rfm['DBSCAN_Cluster'])) - (1 if -1 in rfm['DBSCAN_Cluster'].values else 0)\n",
        "n_outliers = (rfm['DBSCAN_Cluster'] == -1).sum()\n",
        "\n",
        "print(f\"Số lượng cụm (không tính noise): {n_total_clusters}\")\n",
        "print(f\"Số khách hàng nhiễu (outliers): {n_outliers}\")\n"
      ],
      "metadata": {
        "id": "SLC2N9gZBO0K"
      },
      "execution_count": null,
      "outputs": []
    },
    {
      "cell_type": "code",
      "source": [
        "# --- Tính silhouette score (chỉ tính điểm hợp lệ) ---\n",
        "if n_total_clusters > 1:\n",
        "    mask = rfm['DBSCAN_Cluster'] != -1\n",
        "    score = silhouette_score(rfm_scaled[mask], rfm['DBSCAN_Cluster'][mask])\n",
        "    print(f\"Silhouette Score (loại bỏ noise): {score:.3f}\")\n",
        "else:\n",
        "    print(\"Không thể tính Silhouette Score (chỉ có 1 cụm hoặc toàn noise)\")\n",
        "    score = None\n",
        "\n",
        "# --- PCA trực quan hóa ---\n",
        "pca = PCA(n_components=2)\n",
        "rfm_pca = pca.fit_transform(rfm_scaled)\n",
        "rfm['PCA1'] = rfm_pca[:, 0]\n",
        "rfm['PCA2'] = rfm_pca[:, 1]\n",
        "\n",
        "plt.figure(figsize=(10, 6))\n",
        "sns.scatterplot(data=rfm, x='PCA1', y='PCA2', hue='DBSCAN_Cluster', palette='Set1', s=60)\n",
        "plt.title(\"Phân cụm khách hàng bằng DBSCAN (PCA 2D)\")\n",
        "plt.legend(title='Cụm', bbox_to_anchor=(1.05, 1), loc='upper left')\n",
        "plt.tight_layout()\n",
        "plt.show()"
      ],
      "metadata": {
        "id": "SLefOCFNCtwC"
      },
      "execution_count": null,
      "outputs": []
    },
    {
      "cell_type": "markdown",
      "source": [
        "# **DBSCAN ( Phân cụm sản phẩm )**"
      ],
      "metadata": {
        "id": "Jix5FV2IRXiu"
      }
    },
    {
      "cell_type": "code",
      "source": [
        "from sklearn.cluster import DBSCAN\n",
        "from sklearn.metrics import silhouette_score\n",
        "from sklearn.decomposition import PCA\n",
        "import seaborn as sns\n",
        "import matplotlib.pyplot as plt\n",
        "\n",
        "# --- Áp dụng DBSCAN ---\n",
        "dbscan = DBSCAN(eps=2.5, min_samples=4)\n",
        "product_df['DBSCAN_Cluster'] = dbscan.fit_predict(X_scaled)\n",
        "\n",
        "# --- Thống kê cụm & outlier ---\n",
        "n_clusters = len(set(product_df['DBSCAN_Cluster'])) - (1 if -1 in product_df['DBSCAN_Cluster'] else 0)\n",
        "n_noise = (product_df['DBSCAN_Cluster'] == -1).sum()\n",
        "\n",
        "print(f\"Số lượng cụm (không tính noise): {n_clusters}\")\n",
        "print(f\"Số sản phẩm nhiễu (noise): {n_noise}\")"
      ],
      "metadata": {
        "id": "_JNDgU7WQ4DN"
      },
      "execution_count": null,
      "outputs": []
    },
    {
      "cell_type": "code",
      "source": [
        "# --- Tính silhouette score (chỉ tính nếu có trên 1 cụm và loại noise) ---\n",
        "if n_clusters > 1:\n",
        "    mask = product_df['DBSCAN_Cluster'] != -1\n",
        "    score = silhouette_score(X_scaled[mask], product_df['DBSCAN_Cluster'][mask])\n",
        "    print(f\"Silhouette Score (loại bỏ noise): {score:.3f}\")\n",
        "else:\n",
        "    print(\"Không thể tính Silhouette Score (chỉ có 1 cụm hoặc toàn noise)\")\n",
        "    score = None\n",
        "\n",
        "# --- PCA trực quan hóa ---\n",
        "pca = PCA(n_components=2)\n",
        "product_pca = pca.fit_transform(X_scaled)\n",
        "product_df['PCA1'] = product_pca[:, 0]\n",
        "product_df['PCA2'] = product_pca[:, 1]\n",
        "\n",
        "plt.figure(figsize=(10,6))\n",
        "sns.scatterplot(data=product_df, x='PCA1', y='PCA2', hue='DBSCAN_Cluster', palette='Set1', s=60)\n",
        "plt.title(\"Phân cụm sản phẩm bằng DBSCAN (PCA 2D)\")\n",
        "plt.legend(title='Cụm', bbox_to_anchor=(1.05, 1), loc='upper left')\n",
        "plt.tight_layout()\n",
        "plt.show()"
      ],
      "metadata": {
        "id": "nmpjdV_cRQQ1"
      },
      "execution_count": null,
      "outputs": []
    },
    {
      "cell_type": "code",
      "source": [
        "#Kết quả tổng hợp trung bình của từng cụm sản phẩm\n",
        "product_summary = product_df.groupby('DBSCAN_Cluster')[['OrderCount', 'TotalQuantity', 'TotalSales', 'TotalProfit', 'AvgPrice']].mean().round(2)\n",
        "print(\"Kết quả tổng hợp trung bình của từng cụm sản phẩm:\")\n",
        "print(product_summary)\n",
        "#Số lượng sản phẩm trong mỗi cụm\n",
        "counts = product_df['DBSCAN_Cluster'].value_counts().sort_index()\n",
        "print(\"\\nSố lượng sản phẩm trong mỗi cụm:\")\n",
        "print(counts)"
      ],
      "metadata": {
        "id": "7BhBGzYkpVcy"
      },
      "execution_count": null,
      "outputs": []
    },
    {
      "cell_type": "markdown",
      "source": [
        "# **So sánh K-means và DBSCAN**"
      ],
      "metadata": {
        "id": "qMf3Tq6meCay"
      }
    },
    {
      "cell_type": "code",
      "source": [
        "from sklearn.cluster import KMeans, DBSCAN\n",
        "from sklearn.metrics import silhouette_score\n",
        "from sklearn.decomposition import PCA\n",
        "import matplotlib.pyplot as plt\n",
        "import seaborn as sns\n",
        "import pandas as pd\n",
        "import matplotlib.ticker as mtick\n",
        "\n",
        "# 1. KMeans clustering\n",
        "def apply_kmeans(X_scaled, df, n_clusters, label_name):\n",
        "    km = KMeans(n_clusters=n_clusters, random_state=42)\n",
        "    labels = km.fit_predict(X_scaled)\n",
        "    df[f\"{label_name}_KMeans\"] = labels\n",
        "    score = silhouette_score(X_scaled, labels)\n",
        "    print(f\"[KMeans] {label_name} – k={n_clusters}: Silhouette Score = {score:.3f}\")\n",
        "    return score\n",
        "\n",
        "# 2. DBSCAN clustering\n",
        "def apply_dbscan(X_scaled, df, eps, min_samples, label_name):\n",
        "    db = DBSCAN(eps=eps, min_samples=min_samples)\n",
        "    labels = db.fit_predict(X_scaled)\n",
        "    df[f\"{label_name}_DBSCAN\"] = labels\n",
        "    n_clusters = len(set(labels)) - (1 if -1 in labels else 0)\n",
        "    if n_clusters > 1:\n",
        "        score = silhouette_score(X_scaled[labels != -1], labels[labels != -1])\n",
        "        print(f\"[DBSCAN] {label_name} – eps={eps}: Silhouette Score = {score:.3f}\")\n",
        "    else:\n",
        "        score = None\n",
        "        print(f\"[DBSCAN] {label_name} – Không đủ cụm hợp lệ để tính Silhouette Score.\")\n",
        "    return score\n",
        "\n",
        "# 3. So sánh PCA trực quan hóa\n",
        "def plot_pca_comparison(X_scaled, df, label_name, kmeans_k=None):\n",
        "    pca = PCA(n_components=2)\n",
        "    pcs = pca.fit_transform(X_scaled)\n",
        "    df_pca = pd.DataFrame(pcs, columns=['PC1','PC2'])\n",
        "    df_pca[label_name+'_KMeans'] = df[f\"{label_name}_KMeans\"]\n",
        "    df_pca[label_name+'_DBSCAN'] = df[f\"{label_name}_DBSCAN\"]\n",
        "\n",
        "    fig, axes = plt.subplots(1, 2, figsize=(12, 5))\n",
        "    sns.scatterplot(ax=axes[0], data=df_pca, x='PC1', y='PC2',\n",
        "                    hue=label_name+'_KMeans', palette='tab10', s=50)\n",
        "    axes[0].set_title(f\"{label_name} – KMeans (k={kmeans_k})\")\n",
        "\n",
        "    sns.scatterplot(ax=axes[1], data=df_pca, x='PC1', y='PC2',\n",
        "                    hue=label_name+'_DBSCAN', palette='Set1', s=50)\n",
        "    axes[1].set_title(f\"{label_name} – DBSCAN\")\n",
        "    plt.tight_layout()\n",
        "    plt.show()\n",
        "\n",
        "# 4. Heatmap RFM trung bình theo cụm\n",
        "def plot_rfm_heatmap(rfm_df, cluster_col):\n",
        "    rfm_group = rfm_df.groupby(cluster_col)[['Recency', 'Frequency', 'Monetary']].mean().round(2)\n",
        "    plt.figure(figsize=(8,5))\n",
        "    sns.heatmap(rfm_group, annot=True, cmap='YlGnBu', fmt='.1f')\n",
        "    plt.title(\"Trung bình RFM theo cụm\")\n",
        "    plt.show()\n",
        "\n",
        "# 5. Đếm số lượng khách hàng theo cụm\n",
        "def plot_cluster_distribution(df, cluster_col, title=\"Phân phối khách hàng theo cụm\"):\n",
        "    plt.figure(figsize=(6,4))\n",
        "    sns.countplot(data=df, x=cluster_col, palette='Set2')\n",
        "    plt.title(title)\n",
        "    plt.xlabel(\"Cụm\")\n",
        "    plt.ylabel(\"Số lượng\")\n",
        "    plt.show()\n",
        "\n",
        "# 6. Tỷ lệ phần trăm khách hàng theo cụm\n",
        "def plot_cluster_percentage(df, cluster_col):\n",
        "    cluster_pct = df[cluster_col].value_counts(normalize=True).sort_index() * 100\n",
        "    cluster_pct = cluster_pct.round(1)\n",
        "\n",
        "    plt.figure(figsize=(6,4))\n",
        "    ax = sns.barplot(x=cluster_pct.index, y=cluster_pct.values, palette='pastel')\n",
        "    ax.yaxis.set_major_formatter(mtick.PercentFormatter())\n",
        "    plt.title(\"Tỷ lệ phần trăm khách hàng theo cụm\")\n",
        "    plt.ylabel(\"Tỷ lệ (%)\")\n",
        "    plt.xlabel(\"Cụm\")\n",
        "    plt.show()\n"
      ],
      "metadata": {
        "id": "2ZITpDcHVan3"
      },
      "execution_count": null,
      "outputs": []
    },
    {
      "cell_type": "code",
      "source": [
        "# --- Phân cụm RFM (Khách hàng) ---\n",
        "rfm_kmeans_score = apply_kmeans(rfm_scaled, rfm, n_clusters=3, label_name='RFM')\n",
        "rfm_dbscan_score = apply_dbscan(rfm_scaled, rfm, eps=0.33, min_samples=4, label_name='RFM')\n",
        "plot_pca_comparison(rfm_scaled, rfm, label_name='RFM', kmeans_k=3)\n",
        "plot_rfm_heatmap(rfm, cluster_col='RFM_KMeans')\n",
        "plot_cluster_distribution(rfm, cluster_col='RFM_KMeans')\n",
        "plot_cluster_percentage(rfm, cluster_col='RFM_KMeans')\n",
        "\n",
        "# --- Phân cụm Product (Sản phẩm) ---\n",
        "prod_kmeans_score = apply_kmeans(X_scaled, product_df, n_clusters=4, label_name='Prod')\n",
        "prod_dbscan_score = apply_dbscan(X_scaled, product_df, eps=2.5, min_samples=4, label_name='Prod')\n",
        "plot_pca_comparison(X_scaled, product_df, label_name='Prod', kmeans_k=4)\n"
      ],
      "metadata": {
        "id": "N4w_ZL2ATdZ3"
      },
      "execution_count": null,
      "outputs": []
    }
  ]
}